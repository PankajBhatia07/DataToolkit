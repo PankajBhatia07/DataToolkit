{
  "nbformat": 4,
  "nbformat_minor": 0,
  "metadata": {
    "colab": {
      "provenance": [],
      "collapsed_sections": [
        "xi-ZjWlIKy6u",
        "cpqJp0yKUMQw",
        "6VBWWKchW_pv",
        "VAwcu07RZDrd",
        "GXPsAHbJaKW2",
        "G-t8MHJUa1na",
        "IIKwa-L9cwKB",
        "Ilu6ixjLfGnr",
        "DKHGq2or20lk",
        "b3OwMtBc3dCU",
        "VLwCaQvz4xf8",
        "phLTndq1525O",
        "X7AOz_Bw7tdr",
        "n0gbRP1_8FTo",
        "ikmfKq-R8eL8",
        "uLboMUSq-LId",
        "eC5L97pZ-52T",
        "wjcgVyit_hEk",
        "fw6VClbpAkVo",
        "H2WztkojBorE",
        "0_I775aRC14I",
        "twvtdDBeCEvM",
        "QB1Yxt0hCGV-",
        "EkKKLYcFEUvH",
        "BOjmVszYEYth",
        "nQuUvZw-FfPI",
        "rejEDfCJIUe2",
        "zFOSmvs1JTa0",
        "oz3u48WVNlI0",
        "aQwZ-Qi9Quel",
        "v5dAMItqRrcM",
        "Xp-uBRCESPji",
        "rXsKun3fV1_n",
        "-CHYQZU0XGbF",
        "Mf5asetzYdIb",
        "kBERO_ctYXl7"
      ]
    },
    "kernelspec": {
      "name": "python3",
      "display_name": "Python 3"
    },
    "language_info": {
      "name": "python"
    }
  },
  "cells": [
    {
      "cell_type": "markdown",
      "source": [
        "# ***Data Toolkit Questions***"
      ],
      "metadata": {
        "id": "xi-ZjWlIKy6u"
      }
    },
    {
      "cell_type": "markdown",
      "source": [
        "## **Q1.What is NumPy, and why is it widely used in Python?**"
      ],
      "metadata": {
        "id": "cpqJp0yKUMQw"
      }
    },
    {
      "cell_type": "markdown",
      "source": [
        "NumPy (Numerical Python) is a powerful open-source library in Python used for numerical and scientific computing. It provides support for large, multi-dimensional arrays and matrices, along with a collection of mathematical functions to perform operations on these arrays efficiently."
      ],
      "metadata": {
        "id": "Wt-3ugMXUVSM"
      }
    },
    {
      "cell_type": "markdown",
      "source": [
        "**Why is it widely used in Python?**\n",
        "\n",
        "**1.Efficiency:** NumPy is much faster than traditional Python lists because it is implemented in C, which makes array operations highly optimized.\n",
        "\n",
        "**2.Multi-Dimensional Arrays:** It provides an efficient way to work with multi-dimensional data using the ndarray object.\n",
        "\n",
        "**3.Mathematical Functions:** NumPy has built-in mathematical functions like linear algebra, statistical operations, and random number generation.\n",
        "\n",
        "**4.Broadcasting:** It allows arithmetic operations on arrays of different shapes, making element-wise operations simpler without writing loops.\n",
        "\n",
        "**5.Data Manipulation:** It supports slicing, reshaping, and filtering of arrays easily.\n",
        "\n",
        "**6.Interoperability:** Many libraries like Pandas, TensorFlow, and Scikit-learn use NumPy arrays as their primary data structure.\n",
        "\n",
        "**7.Community and Ecosystem:** It is a fundamental package in the Python data science ecosystem, making it widely supported"
      ],
      "metadata": {
        "id": "HQtv5L9FUanq"
      }
    },
    {
      "cell_type": "markdown",
      "source": [
        "## **Q2.How does broadcasting work in NumPy?**"
      ],
      "metadata": {
        "id": "6VBWWKchW_pv"
      }
    },
    {
      "cell_type": "markdown",
      "source": [
        "Broadcasting in NumPy allows arrays of different shapes to be used together in mathematical operations without explicitly reshaping them. This eliminates the need for looping and improves computational efficiency."
      ],
      "metadata": {
        "id": "aOnzpkZkYCKF"
      }
    },
    {
      "cell_type": "markdown",
      "source": [
        " **How Does Broadcasting Work?**\n",
        "\n",
        "* If arrays have the same shape → Element-wise operation happens directly.\n",
        "* If shapes are different → NumPy tries to \"stretch\" the smaller array to match the larger one."
      ],
      "metadata": {
        "id": "0Ah2gXBWYTuB"
      }
    },
    {
      "cell_type": "markdown",
      "source": [
        "## **Q3.What is a Pandas DataFrame?**"
      ],
      "metadata": {
        "id": "VAwcu07RZDrd"
      }
    },
    {
      "cell_type": "markdown",
      "source": [
        "A Pandas DataFrame is a two-dimensional, tabular data structure in Python, similar to an Excel spreadsheet or a SQL table. It consists of rows and columns, where each column can hold different data types (integers, floats, strings, etc.)."
      ],
      "metadata": {
        "id": "KaLZ4LJcZVh8"
      }
    },
    {
      "cell_type": "markdown",
      "source": [
        "**Features of a DataFrame**\n",
        "* **Labeled Rows & Columns** → Each row has an index, and each column has a name.\n",
        "\n",
        "* **Heterogeneous Data** → Columns can store different types of data (int, float, string, etc.).\n",
        "\n",
        "* **Powerful Data Operations** → Filtering, sorting, grouping, merging, etc.\n",
        "\n",
        "* **Integration with Other Libraries** → Works well with NumPy, Matplotlib, and SQL databases.\n",
        "\n"
      ],
      "metadata": {
        "id": "-dsr7z8uZrE3"
      }
    },
    {
      "cell_type": "markdown",
      "source": [
        "## **Q4.Explain the use of the groupby() method in Pandas.**"
      ],
      "metadata": {
        "id": "GXPsAHbJaKW2"
      }
    },
    {
      "cell_type": "markdown",
      "source": [
        "The groupby() method in Pandas is used for grouping and aggregating data based on specific columns. It is commonly used in data analysis to summarize and compute statistics efficiently.\n",
        "\n",
        "**How Does groupby() Work?**\n",
        "\n",
        "1.Splits the data into groups based on a column (or multiple columns).\n",
        "\n",
        "2.Applies a function (like sum, mean, count) to each group.\n",
        "\n",
        "3.Combines the results into a new DataFrame."
      ],
      "metadata": {
        "id": "e1ub3juzabmo"
      }
    },
    {
      "cell_type": "markdown",
      "source": [
        "## **Q5.Why is Seaborn preferred for statistical visualizations?**"
      ],
      "metadata": {
        "id": "G-t8MHJUa1na"
      }
    },
    {
      "cell_type": "markdown",
      "source": [
        "Seaborn is a Python data visualization library built on Matplotlib that provides a high-level interface for creating statistical graphics. It is widely preferred for data analysis and visualization because of its ease of use, built-in themes, and statistical capabilities."
      ],
      "metadata": {
        "id": "ps2o9MgJbaEs"
      }
    },
    {
      "cell_type": "markdown",
      "source": [
        "![Screenshot 2025-03-06 224020.png](data:image/png;base64,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)"
      ],
      "metadata": {
        "id": "_dOoPEzWbbfU"
      }
    },
    {
      "cell_type": "markdown",
      "source": [
        "**Reasons Why Seaborn is Preferred**\n",
        "\n",
        "**Built-in Support for Statistical Plots**\n",
        "Seaborn makes it easy to create statistical plots such as:\n",
        "\n",
        "* Histograms (histplot)\n",
        "* Regression Plots (regplot)\n",
        "* Box Plots (boxplot)\n",
        "* Violin Plots (violinplot)"
      ],
      "metadata": {
        "id": "xrYGq7MocYaS"
      }
    },
    {
      "cell_type": "markdown",
      "source": [
        "## **Q6.What are the differences between NumPy arrays and Python lists?**"
      ],
      "metadata": {
        "id": "IIKwa-L9cwKB"
      }
    },
    {
      "cell_type": "markdown",
      "source": [
        "Both NumPy arrays and Python lists can store multiple elements, but they have significant differences in terms of performance, functionality, and flexibility."
      ],
      "metadata": {
        "id": "z0tSqCoVc8y0"
      }
    },
    {
      "cell_type": "markdown",
      "source": [
        "**Speed & Performance**\n",
        "* NumPy arrays are faster than Python lists because they use contiguous memory allocation and optimized C-based functions.\n",
        "* Python lists store objects separately in memory, making them slower for numerical operations.\n",
        "\n",
        "**Memory Efficiency**\n",
        "* NumPy arrays use less memory because they store elements in a single data type (int32, float64, etc.).\n",
        "* Python lists store pointers to objects, consuming more memory.\n",
        "\n",
        "**Functionality & Built-in Operations**\n",
        "* NumPy supports vectorized operations (element-wise addition, multiplication, etc.) directly.\n",
        "* Python lists require explicit loops for numerical computations.\n",
        "\n",
        "**Type Consistency**\n",
        "* NumPy arrays enforce a single data type (e.g., all elements must be integers or floats).\n",
        "* Python lists can store mixed data types (integers, strings, etc.).\n",
        "\n",
        "**Multi-Dimensional Support**\n",
        "* NumPy arrays can be multi-dimensional (e.g., 2D matrices, 3D tensors).\n",
        "* Python lists require nested lists for multi-dimensional structures.\n",
        "\n",
        "**Broadcasting Support**\n",
        "* NumPy arrays support broadcasting (automatic expansion of shapes for operations).\n",
        "* Python lists do not support broadcasting."
      ],
      "metadata": {
        "id": "H60xFdNydxm3"
      }
    },
    {
      "cell_type": "markdown",
      "source": [
        "![Screenshot 2025-03-06 225307.png](data:image/png;base64,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)"
      ],
      "metadata": {
        "id": "NEOLJTsceigz"
      }
    },
    {
      "cell_type": "markdown",
      "source": [],
      "metadata": {
        "id": "YctrZuRHfE0s"
      }
    },
    {
      "cell_type": "markdown",
      "source": [
        "## **Q7.A What is a heatmap, and when should it be used?**\n"
      ],
      "metadata": {
        "id": "Ilu6ixjLfGnr"
      }
    },
    {
      "cell_type": "markdown",
      "source": [
        "A heatmap is a graphical representation of data where individual values are represented by colors. It is commonly used to visualize correlations, density distributions, and hierarchical data in an easy-to-understand format."
      ],
      "metadata": {
        "id": "R6XlHIUA2lmC"
      }
    },
    {
      "cell_type": "markdown",
      "source": [
        "**When Should You Use a Heatmap?**\n",
        "* **Finding Relationships in Data** → Used to visualize correlations between numerical variables.\n",
        "* **Detecting Patterns & Trends** → Helps identify trends in large datasets quickly.\n",
        "* **Visualizing Density** → Shows the intensity of values (e.g., population density, website clicks).\n",
        "* **Highlighting Anomalies** → Helps in outlier detection (e.g., missing values in a dataset)."
      ],
      "metadata": {
        "id": "tP0vROBm2sOY"
      }
    },
    {
      "cell_type": "markdown",
      "source": [
        "## **Q8.What does the term “vectorized operation” mean in NumPy?**"
      ],
      "metadata": {
        "id": "DKHGq2or20lk"
      }
    },
    {
      "cell_type": "markdown",
      "source": [
        "A vectorized operation in NumPy refers to performing element-wise operations on entire arrays without using explicit loops. NumPy leverages low-level C optimizations, making these operations much faster than traditional Python loops."
      ],
      "metadata": {
        "id": "PtAr1oz73Max"
      }
    },
    {
      "cell_type": "markdown",
      "source": [
        "**Why Use Vectorized Operations?**\n",
        "* **Faster Execution** → Operations run in optimized C code instead of slow Python loops.\n",
        "* **Memory Efficient** → Uses contiguous memory blocks, reducing overhead.\n",
        "* **Concise & Readable** → No need for explicit loops, making the code cleaner."
      ],
      "metadata": {
        "id": "4BMe0uPf3Q4K"
      }
    },
    {
      "cell_type": "markdown",
      "source": [],
      "metadata": {
        "id": "wtCoCHNB3bd2"
      }
    },
    {
      "cell_type": "markdown",
      "source": [
        " ## **Q9.How does Matplotlib differ from Plotly?**"
      ],
      "metadata": {
        "id": "b3OwMtBc3dCU"
      }
    },
    {
      "cell_type": "markdown",
      "source": [
        "Both Matplotlib and Plotly are popular Python libraries for data visualization, but they differ in terms of functionality, interactivity, and use cases.\n",
        "\n",
        "**Basic Difference**\n",
        "![Screenshot 2025-03-07 144329.png](data:image/png;base64,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)"
      ],
      "metadata": {
        "id": "MhmoAsGG3jGq"
      }
    },
    {
      "cell_type": "markdown",
      "source": [
        "## **Q10.What is the significance of hierarchical indexing in Pandas?**"
      ],
      "metadata": {
        "id": "VLwCaQvz4xf8"
      }
    },
    {
      "cell_type": "markdown",
      "source": [
        "Hierarchical indexing (also called MultiIndex) in Pandas allows you to have multiple levels of indexing on rows and columns. This is particularly useful when dealing with multi-dimensional data in a tabular format, enabling more complex data organization and retrieval.\n",
        "\n",
        "**Why is Hierarchical Indexing Important?**\n",
        "* Organizes multi-dimensional data in a structured way.\n",
        "*  Efficient slicing and subsetting of data.\n",
        "* Reduces redundancy and makes large datasets more readable.\n",
        "* Useful for time series, panel data, and grouped data.\n",
        "\n"
      ],
      "metadata": {
        "id": "kfTojpIc4-An"
      }
    },
    {
      "cell_type": "markdown",
      "source": [
        "## **Q11.What is the role of Seaborn’s pairplot() function?**"
      ],
      "metadata": {
        "id": "phLTndq1525O"
      }
    },
    {
      "cell_type": "markdown",
      "source": [
        "The pairplot() function in Seaborn is used to create a grid of scatter plots and histograms to visualize pairwise relationships between numerical variables in a dataset. It is especially useful for exploratory data analysis (EDA) and detecting patterns, correlations, or outliers.\n",
        "\n",
        "**Why Use pairplot()**\n",
        "* Visualizes relationships between multiple numerical variables.\n",
        "* Helps identify correlations and trends.\n",
        "* Detects outliers or clusters in the data.\n",
        "* Supports color grouping (hue) for categorical analysis."
      ],
      "metadata": {
        "id": "n8ERHAYJ6EMf"
      }
    },
    {
      "cell_type": "markdown",
      "source": [
        "## **Q12.What is the purpose of the describe() function in Pandas?**"
      ],
      "metadata": {
        "id": "X7AOz_Bw7tdr"
      }
    },
    {
      "cell_type": "markdown",
      "source": [
        "The describe() function in Pandas is used to generate summary statistics of a DataFrame’s numerical (or categorical) columns. It provides key insights into the distribution, central tendency, and spread of the data."
      ],
      "metadata": {
        "id": "_cRVM7T-72VT"
      }
    },
    {
      "cell_type": "markdown",
      "source": [
        "**Why Use describe()?**\n",
        "* Quickly summarizes numerical data.\n",
        "* Helps detect outliers, missing values, and skewness.\n",
        "* Useful for Exploratory Data Analysis (EDA).\n",
        "* Works for both numerical and categorical data."
      ],
      "metadata": {
        "id": "axC1ppIV74aB"
      }
    },
    {
      "cell_type": "markdown",
      "source": [
        "## **Q13.Why is handling missing data important in Pandas?**"
      ],
      "metadata": {
        "id": "n0gbRP1_8FTo"
      }
    },
    {
      "cell_type": "markdown",
      "source": [
        "Missing data in a dataset can lead to biased analysis, incorrect conclusions, and errors in machine learning models. Pandas provides powerful tools to detect, handle, and clean missing values, ensuring that your data remains reliable and useful."
      ],
      "metadata": {
        "id": "x0kGc2rZ8LSU"
      }
    },
    {
      "cell_type": "markdown",
      "source": [
        "**Why is Handling Missing Data Crucial?**\n",
        "* Prevents Bias → Missing values can distort statistics and affect decision-making.\n",
        "* Avoids Errors → Many machine learning algorithms cannot handle NaN (Not a Number) values.\n",
        "* Improves Data Quality → Ensures completeness and consistency in datasets.\n",
        "* Enhances Model Performance → Clean data leads to more accurate models"
      ],
      "metadata": {
        "id": "PQR_rhUv8Wdk"
      }
    },
    {
      "cell_type": "markdown",
      "source": [
        "## **Q14.What are the benefits of using Plotly for data visualization?**"
      ],
      "metadata": {
        "id": "ikmfKq-R8eL8"
      }
    },
    {
      "cell_type": "markdown",
      "source": [
        "Plotly is a powerful Python library for creating interactive, web-based visualizations. It is widely used for dashboards, reports, and exploratory data analysis."
      ],
      "metadata": {
        "id": "cw64rkK78mVe"
      }
    },
    {
      "cell_type": "markdown",
      "source": [
        "**1. Interactive Visualizations**\n",
        "\n",
        "* Unlike Matplotlib, Plotly provides built-in interactivity such as zooming, panning, and tooltips without extra coding.\n",
        "* Ideal for exploratory data analysis (EDA) and business dashboards.\n",
        "\n",
        "**2. Web-Based & Responsive**\n",
        "\n",
        "* Generates HTML-based visualizations that work seamlessly in Jupyter Notebooks, web apps, and dashboards.\n",
        "* Fully compatible with Dash, making it great for web-based reports.\n",
        "\n",
        "**3. Supports Multiple Chart Types**\n",
        "\n",
        "* Provides a wide range of visualizations, including:\n",
        "\n",
        " *  Line, bar, scatter, pie charts\n",
        " * Heatmaps, box plots, violin plots\n",
        " * 3D plots, choropleth maps, and animations\n",
        "\n",
        "**4. Easy Integration with Pandas & NumPy**\n",
        "\n",
        "* Works directly with Pandas DataFrames, making data visualization easier.\n",
        "\n",
        "**5. Highly Customizable**\n",
        "* Supports themes, color palettes, annotations, and multiple subplots.\n",
        "\n",
        "**6. Works with Dash for Interactive Dashboards**\n",
        "\n",
        "* Seamless integration with Dash to create fully interactive, data-driven web applications.\n",
        "\n",
        "**7. Supports 3D & Geographic Visualizations**\n",
        "\n",
        "* Create 3D scatter plots, surface plots, and map-based visualizations."
      ],
      "metadata": {
        "id": "FFUD_e4t8sAh"
      }
    },
    {
      "cell_type": "markdown",
      "source": [
        " ## **Q15.How does NumPy handle multidimensional arrays?**"
      ],
      "metadata": {
        "id": "uLboMUSq-LId"
      }
    },
    {
      "cell_type": "markdown",
      "source": [
        "NumPy handles multidimensional arrays using its ndarray (N-dimensional array) object, which allows efficient storage and operations on multi-dimensional data.\n",
        "\n",
        "* **Shape & Dimensions:** NumPy arrays have a .shape attribute that defines the size along each dimension and a .ndim attribute that specifies the number of dimensions.\n",
        "* **Indexing & Slicing:** Supports standard Python-style slicing and advanced indexing to access and manipulate elements efficiently.\n",
        "* **Vectorized Operations:** Performs element-wise operations across multiple dimensions without explicit loops, improving speed and efficiency.\n",
        "* **Reshaping & Broadcasting:** Arrays can be reshaped into different dimensions (.reshape()) and broadcasted to match dimensions during operations.\n",
        "* **Efficient Memory Usage:** Stores data in a contiguous block of memory, allowing fast computations with minimal overhead."
      ],
      "metadata": {
        "id": "ybx0C2GD-Sdj"
      }
    },
    {
      "cell_type": "markdown",
      "source": [
        "## **Q16.What is the role of Bokeh in data visualization?**"
      ],
      "metadata": {
        "id": "eC5L97pZ-52T"
      }
    },
    {
      "cell_type": "markdown",
      "source": [
        "Bokeh is a Python library for interactive, web-ready visualizations. It allows users to create scalable, high-performance charts and dashboards that work in modern web browsers.\n",
        "* **Creates Interactive Plots**→ Supports zooming, panning, tooltips, and widgets.\n",
        "* **Web-Based Visualizations** → Generates HTML/JavaScript plots that can be embedded in web applications.\n",
        "* **High-Performance with Large Datasets** → Uses WebGL for faster rendering of large data.\n",
        "* **Supports Multiple Output Formats** → Works with Jupyter Notebooks, standalone HTML, and Bokeh Server for live updates.\n",
        "* **Customization & Flexibility** → Offers fine-grained control over visual elements like colors, layouts, and annotations."
      ],
      "metadata": {
        "id": "IDqc72xe_Ceh"
      }
    },
    {
      "cell_type": "markdown",
      "source": [
        "## **Q17.Explain the difference between apply() and map() in Pandas.**"
      ],
      "metadata": {
        "id": "wjcgVyit_hEk"
      }
    },
    {
      "cell_type": "markdown",
      "source": [
        "**1.map()** (For Element-wise Operations on Series)\n",
        "* Works only on Pandas Series (single column).\n",
        "* Applies a function element-wise to transform values.\n",
        "* Accepts a function, dictionary (for mapping values), or Series."
      ],
      "metadata": {
        "id": "7dn6dQoK_yCg"
      }
    },
    {
      "cell_type": "markdown",
      "source": [
        "**2.apply()** (For Row/Column-wise Operations on DataFrames)\n",
        "* Works on both Series and DataFrames.\n",
        "* Can apply a function to an entire column (axis=0) or row (axis=1).\n",
        "* More flexible than map() for complex transformations."
      ],
      "metadata": {
        "id": "G4lJcwteARd5"
      }
    },
    {
      "cell_type": "markdown",
      "source": [
        "## **Q18.What are some advanced features of NumPy?**"
      ],
      "metadata": {
        "id": "fw6VClbpAkVo"
      }
    },
    {
      "cell_type": "markdown",
      "source": [
        "**Advanced Features of NumPy**\n",
        "\n",
        "**1. Broadcasting** → Enables operations on arrays of different shapes without explicit looping.\n",
        "\n",
        "**2. Vectorization** → Eliminates the need for explicit loops by applying operations to entire arrays at once.\n",
        "\n",
        "**3. Memory Efficiency** → Uses contiguous memory storage for faster computations.\n",
        "\n",
        "**4. Advanced Indexing & Slicing** → Supports boolean masking, fancy indexing, and multi-dimensional slicing.\n",
        "\n",
        "**5. Universal Functions (ufuncs)** → Optimized mathematical operations that work element-wise on arrays.\n",
        "\n",
        "**6. Linear Algebra Operations** → Provides matrix operations, eigenvalues, and singular value decomposition (numpy.linalg).\n",
        "\n",
        "**7. Fourier Transforms** → Efficient computation of FFT (numpy.fft).\n",
        "\n",
        "**8. Random Number Generation** → High-performance random sampling using numpy.random.\n",
        "\n",
        "**9. Structured Arrays** → Supports heterogeneous data types like a lightweight DataFrame.\n",
        "\n",
        "**10. Parallel Computing** → Utilizes multi-threading for performance optimization."
      ],
      "metadata": {
        "id": "lPex55WcArte"
      }
    },
    {
      "cell_type": "markdown",
      "source": [
        "## **Q19.How does Pandas simplify time series analysis?**"
      ],
      "metadata": {
        "id": "H2WztkojBorE"
      }
    },
    {
      "cell_type": "markdown",
      "source": [
        "A pivot table in Pandas is used to summarize, aggregate, and restructure data for better analysis.\n",
        "\n",
        "* Transforms long-format data into a more readable table format.\n",
        "* Groups data based on a specified index (rows) and columns.\n",
        "* Applies aggregation functions like sum, mean, count, etc.\n",
        "* Allows multi-level indexing for advanced analysis.\n",
        "* Useful for financial reports, sales analysis, and data summarization."
      ],
      "metadata": {
        "id": "9E-lCjNyBtv7"
      }
    },
    {
      "cell_type": "markdown",
      "source": [
        "## **Q20.What is the role of a pivot table in Pandas?**"
      ],
      "metadata": {
        "id": "0_I775aRC14I"
      }
    },
    {
      "cell_type": "markdown",
      "source": [
        "A pivot table in Pandas is used to summarize and analyze data efficiently by restructuring and aggregating it based on different categories.\n",
        "\n",
        "**Key Functions of a Pivot Table:**\n",
        "\n",
        "**1. Transforms Data** → Converts long-format data into a readable tabular format.\n",
        "\n",
        "**2. Groups & Aggregates** → Groups data based on unique values and applies functions like sum(), mean(), count(), etc.\n",
        "\n",
        "**3. Multi-Level Indexing** → Supports hierarchical indexing for advanced analysis.\n",
        "\n",
        "**4. Handles Missing Data** → Fills in missing values automatically with fill_value.\n",
        "\n",
        "**5. Simplifies Data Analysis** → Commonly used in financial reports, sales analysis, and large datasets."
      ],
      "metadata": {
        "id": "0GS8rXnQC_Nt"
      }
    },
    {
      "cell_type": "markdown",
      "source": [
        "## **Q21.Why is NumPy’s array slicing faster than Python’s list slicing?**"
      ],
      "metadata": {
        "id": "twvtdDBeCEvM"
      }
    },
    {
      "cell_type": "markdown",
      "source": [
        "**1. Memory Efficiency** → NumPy arrays are stored in a contiguous block of memory, whereas Python lists store elements as separate objects with references, adding overhead.\n",
        "\n",
        "**2. No Copying (Views Instead of Copies)** → NumPy slicing creates a view (a reference to the same data), whereas Python lists create new copies, making NumPy much faster.\n",
        "\n",
        "**3. Vectorized Operations** → NumPy leverages low-level C optimizations, reducing the need for Python loops, which speeds up slicing and computations.\n",
        "\n",
        "**4. Fixed Data Types** → NumPy arrays have a single, fixed data type, allowing for optimized storage and faster access, while Python lists store heterogeneous data with additional metadata.\n",
        "\n",
        "**5. SIMD & CPU Optimizations** → NumPy uses SIMD (Single Instruction, Multiple Data) operations and leverages CPU-level optimizations, making slicing and operations more efficient."
      ],
      "metadata": {
        "id": "Lc2uUVnJCW7d"
      }
    },
    {
      "cell_type": "markdown",
      "source": [
        "## **Q22.What are some common use cases for Seaborn?**"
      ],
      "metadata": {
        "id": "QB1Yxt0hCGV-"
      }
    },
    {
      "cell_type": "markdown",
      "source": [
        "Seaborn is a Python library built on Matplotlib, designed for statistical data visualization. It provides beautiful, informative, and customizable charts with minimal effort.\n",
        "\n",
        "**Common Use Cases:**\n",
        "\n",
        "**1. Exploratory Data Analysis (EDA)**\n",
        "\n",
        "Helps identify trends, patterns, and outliers in datasets.\n",
        "Example: sns.pairplot(df) to visualize relationships between numerical variables.\n",
        "\n",
        "**2. Statistical Visualizations**\n",
        "\n",
        "Easily visualize distributions and relationships.\n",
        "Example: sns.histplot(df[\"column\"]) for data distribution.\n",
        "\n",
        "**3. Categorical Data Analysis**\n",
        "\n",
        "Used for comparing categories using box plots, bar plots, violin plots, etc.\n",
        "Example: sns.boxplot(x=\"Category\", y=\"Sales\", data=df) to compare distributions.\n",
        "\n",
        "**4. Correlation & Heatmaps**\n",
        "\n",
        "Helps understand relationships between numerical features.\n",
        "\n",
        "**5. Time Series Analysis**\n",
        "\n",
        "Line plots for trends over time.\n",
        "Example: sns.lineplot(x=\"Date\", y=\"Stock_Price\", data=df).\n",
        "\n",
        "**6. Regression Analysis**\n",
        "\n",
        "Visualizing relationships between variables using sns.regplot().\n",
        "\n",
        "**7. Multi-Variable Comparisons**\n",
        "\n",
        "sns.pairplot() to plot pairwise relationships in datasets.\n",
        "\n",
        "**8. Enhancing Matplotlib Plots**\n",
        "\n",
        "Seaborn integrates with Matplotlib for more aesthetically pleasing visualizations."
      ],
      "metadata": {
        "id": "ngyFeTvZCxVm"
      }
    },
    {
      "cell_type": "markdown",
      "source": [],
      "metadata": {
        "id": "x94NSEYhETJZ"
      }
    },
    {
      "cell_type": "markdown",
      "source": [
        "# ***Practical Question***"
      ],
      "metadata": {
        "id": "EkKKLYcFEUvH"
      }
    },
    {
      "cell_type": "markdown",
      "source": [
        "## **Q1.How do you create a 2D NumPy array and calculate the sum of each row?**"
      ],
      "metadata": {
        "id": "BOjmVszYEYth"
      }
    },
    {
      "cell_type": "code",
      "source": [
        "import numpy as np\n",
        "\n",
        "arr = np.array([[1,2,3],\n",
        "               [4,5,6],\n",
        "               [7,8,9]])\n",
        "\n",
        "rows_sums = np.sum(arr, axis=1)\n",
        "\n",
        "print(rows_sums)"
      ],
      "metadata": {
        "colab": {
          "base_uri": "https://localhost:8080/"
        },
        "id": "HZR80XKmEwez",
        "outputId": "af4b8a17-1d61-43f7-fa93-8e18c96e091c"
      },
      "execution_count": 5,
      "outputs": [
        {
          "output_type": "stream",
          "name": "stdout",
          "text": [
            "[ 6 15 24]\n"
          ]
        }
      ]
    },
    {
      "cell_type": "markdown",
      "source": [
        "## **Q2.Write a Pandas script to find the mean of a specific column in a DataFrame.**"
      ],
      "metadata": {
        "id": "nQuUvZw-FfPI"
      }
    },
    {
      "cell_type": "code",
      "source": [
        "import pandas as pd\n",
        "\n",
        "data ={\n",
        "    'Name':['Pankaj','Rajat','Raman'],\n",
        "    'Age':[23,22,24],\n",
        "    'Salary':[45000,45000,46000]\n",
        "}\n",
        "\n",
        "df = pd.DataFrame(data)\n",
        "\n",
        "mean_salary = df['Salary'].mean()\n",
        "\n",
        "print(f\"Mean_salary: {mean_salary}\")"
      ],
      "metadata": {
        "colab": {
          "base_uri": "https://localhost:8080/"
        },
        "id": "MqhUhJcdFizO",
        "outputId": "1840fb04-4336-4bc7-ca9b-6e7570d7095c"
      },
      "execution_count": 13,
      "outputs": [
        {
          "output_type": "stream",
          "name": "stdout",
          "text": [
            "Mean_salary: 45333.333333333336\n"
          ]
        }
      ]
    },
    {
      "cell_type": "markdown",
      "source": [
        "## **Q3.Create a scatter plot using Matplotlib.**"
      ],
      "metadata": {
        "id": "rejEDfCJIUe2"
      }
    },
    {
      "cell_type": "code",
      "source": [
        "import matplotlib.pyplot as plt\n",
        "import numpy as np\n",
        "\n",
        "np.random.seed(42)\n",
        "x = np.random.rand(20) * 10\n",
        "y = np.random.rand(20) * 10\n",
        "\n",
        "\n",
        "#Creating the satter plot\n",
        "plt.scatter(x,y, color='blue',marker='o',edgecolor='black')\n",
        "\n",
        "plt.xlabel('x-axis')\n",
        "plt.ylabel('y-axis')\n",
        "plt.title('Sample Scatter Plot')\n",
        "\n",
        "plt.show()"
      ],
      "metadata": {
        "colab": {
          "base_uri": "https://localhost:8080/",
          "height": 472
        },
        "id": "wztOLtRlIb-8",
        "outputId": "1e759730-bb3b-4584-cbfb-3682b6497b45"
      },
      "execution_count": 14,
      "outputs": [
        {
          "output_type": "display_data",
          "data": {
            "text/plain": [
              "<Figure size 640x480 with 1 Axes>"
            ],
            "image/png": "[encoded data removed]"
          },
          "metadata": {}
        }
      ]
    },
    {
      "cell_type": "markdown",
      "source": [
        "## **Q4.How do you calculate the correlation matrix using Seaborn and visualize it with a heatmap?**"
      ],
      "metadata": {
        "id": "zFOSmvs1JTa0"
      }
    },
    {
      "cell_type": "code",
      "source": [
        "import pandas as pd\n",
        "import seaborn as sns\n",
        "import matplotlib.pyplot as plt\n",
        "\n",
        "\n",
        "data = {\n",
        "    'A':[1,2,3,4,5],\n",
        "    'B':[2,3,4,5,6],\n",
        "    'C':[5,4,3,2,7],\n",
        "    'D':[4,6,9,1,5]\n",
        "}\n",
        "\n",
        "df = pd.DataFrame(data)\n",
        "\n",
        "corr_matrix = df.corr()\n",
        "\n",
        "plt.figure(figsize=(6,4))\n",
        "sns.heatmap(corr_matrix, annot=True, cmap='coolwarm',fmt='.2f',linewidths=0.5)\n",
        "\n",
        "plt.title('Correlation Matrix Heatmap')\n",
        "plt.show()"
      ],
      "metadata": {
        "colab": {
          "base_uri": "https://localhost:8080/",
          "height": 391
        },
        "id": "EaLluDkbJccT",
        "outputId": "91fbb9be-c5bc-44a6-a596-749593605415"
      },
      "execution_count": 17,
      "outputs": [
        {
          "output_type": "display_data",
          "data": {
            "text/plain": [
              "<Figure size 600x400 with 2 Axes>"
            ],
            "image/png": "[encoded data removed]"
          },
          "metadata": {}
        }
      ]
    },
    {
      "cell_type": "markdown",
      "source": [
        "## **Q5.Generate a bar plot using Plotly.**"
      ],
      "metadata": {
        "id": "oz3u48WVNlI0"
      }
    },
    {
      "cell_type": "code",
      "source": [
        "import plotly.express as px\n",
        "import pandas as pd\n",
        "\n",
        "data = {\n",
        "    'Category':['A','B','C','D','E'],\n",
        "    'Values':[10,25,15,30,20]\n",
        "}\n",
        "\n",
        "df = pd.DataFrame(data)\n",
        "\n",
        "fig = px.bar(df, x=\"Category\", y=\"Values\",title=\"Sample Bar Plot\", labels={\"Values\":\"Count\",\"Category\":\"Category\"}, color=\"Category\")\n",
        "\n",
        "fig.show()"
      ],
      "metadata": {
        "colab": {
          "base_uri": "https://localhost:8080/",
          "height": 542
        },
        "id": "IalBznMePmAI",
        "outputId": "687ac021-b6ca-4445-c916-a4e463eab4a6"
      },
      "execution_count": 19,
      "outputs": [
        {
          "output_type": "display_data",
          "data": {
            "text/html": [
              "<html>\n",
              "<head><meta charset=\"utf-8\" /></head>\n",
              "<body>\n",
              "    <div>            <script src=\"https://cdnjs.cloudflare.com/ajax/libs/mathjax/2.7.5/MathJax.js?config=TeX-AMS-MML_SVG\"></script><script type=\"text/javascript\">if (window.MathJax && window.MathJax.Hub && window.MathJax.Hub.Config) {window.MathJax.Hub.Config({SVG: {font: \"STIX-Web\"}});}</script>                <script type=\"text/javascript\">window.PlotlyConfig = {MathJaxConfig: 'local'};</script>\n",
              "        <script charset=\"utf-8\" src=\"https://cdn.plot.ly/plotly-2.35.2.min.js\"></script>                <div id=\"44dba366-d49b-479f-b89f-caaa9b44a1c9\" class=\"plotly-graph-div\" style=\"height:525px; width:100%;\"></div>            <script type=\"text/javascript\">                                    window.PLOTLYENV=window.PLOTLYENV || {};                                    if (document.getElementById(\"44dba366-d49b-479f-b89f-caaa9b44a1c9\")) {                    Plotly.newPlot(                        \"44dba366-d49b-479f-b89f-caaa9b44a1c9\",                        [{\"alignmentgroup\":\"True\",\"hovertemplate\":\"Category=%{x}\\u003cbr\\u003eCount=%{y}\\u003cextra\\u003e\\u003c\\u002fextra\\u003e\",\"legendgroup\":\"A\",\"marker\":{\"color\":\"#636efa\",\"pattern\":{\"shape\":\"\"}},\"name\":\"A\",\"offsetgroup\":\"A\",\"orientation\":\"v\",\"showlegend\":true,\"textposition\":\"auto\",\"x\":[\"A\"],\"xaxis\":\"x\",\"y\":[10],\"yaxis\":\"y\",\"type\":\"bar\"},{\"alignmentgroup\":\"True\",\"hovertemplate\":\"Category=%{x}\\u003cbr\\u003eCount=%{y}\\u003cextra\\u003e\\u003c\\u002fextra\\u003e\",\"legendgroup\":\"B\",\"marker\":{\"color\":\"#EF553B\",\"pattern\":{\"shape\":\"\"}},\"name\":\"B\",\"offsetgroup\":\"B\",\"orientation\":\"v\",\"showlegend\":true,\"textposition\":\"auto\",\"x\":[\"B\"],\"xaxis\":\"x\",\"y\":[25],\"yaxis\":\"y\",\"type\":\"bar\"},{\"alignmentgroup\":\"True\",\"hovertemplate\":\"Category=%{x}\\u003cbr\\u003eCount=%{y}\\u003cextra\\u003e\\u003c\\u002fextra\\u003e\",\"legendgroup\":\"C\",\"marker\":{\"color\":\"#00cc96\",\"pattern\":{\"shape\":\"\"}},\"name\":\"C\",\"offsetgroup\":\"C\",\"orientation\":\"v\",\"showlegend\":true,\"textposition\":\"auto\",\"x\":[\"C\"],\"xaxis\":\"x\",\"y\":[15],\"yaxis\":\"y\",\"type\":\"bar\"},{\"alignmentgroup\":\"True\",\"hovertemplate\":\"Category=%{x}\\u003cbr\\u003eCount=%{y}\\u003cextra\\u003e\\u003c\\u002fextra\\u003e\",\"legendgroup\":\"D\",\"marker\":{\"color\":\"#ab63fa\",\"pattern\":{\"shape\":\"\"}},\"name\":\"D\",\"offsetgroup\":\"D\",\"orientation\":\"v\",\"showlegend\":true,\"textposition\":\"auto\",\"x\":[\"D\"],\"xaxis\":\"x\",\"y\":[30],\"yaxis\":\"y\",\"type\":\"bar\"},{\"alignmentgroup\":\"True\",\"hovertemplate\":\"Category=%{x}\\u003cbr\\u003eCount=%{y}\\u003cextra\\u003e\\u003c\\u002fextra\\u003e\",\"legendgroup\":\"E\",\"marker\":{\"color\":\"#FFA15A\",\"pattern\":{\"shape\":\"\"}},\"name\":\"E\",\"offsetgroup\":\"E\",\"orientation\":\"v\",\"showlegend\":true,\"textposition\":\"auto\",\"x\":[\"E\"],\"xaxis\":\"x\",\"y\":[20],\"yaxis\":\"y\",\"type\":\"bar\"}],                        {\"template\":{\"data\":{\"histogram2dcontour\":[{\"type\":\"histogram2dcontour\",\"colorbar\":{\"outlinewidth\":0,\"ticks\":\"\"},\"colorscale\":[[0.0,\"#0d0887\"],[0.1111111111111111,\"#46039f\"],[0.2222222222222222,\"#7201a8\"],[0.3333333333333333,\"#9c179e\"],[0.4444444444444444,\"#bd3786\"],[0.5555555555555556,\"#d8576b\"],[0.6666666666666666,\"#ed7953\"],[0.7777777777777778,\"#fb9f3a\"],[0.8888888888888888,\"#fdca26\"],[1.0,\"#f0f921\"]]}],\"choropleth\":[{\"type\":\"choropleth\",\"colorbar\":{\"outlinewidth\":0,\"ticks\":\"\"}}],\"histogram2d\":[{\"type\":\"histogram2d\",\"colorbar\":{\"outlinewidth\":0,\"ticks\":\"\"},\"colorscale\":[[0.0,\"#0d0887\"],[0.1111111111111111,\"#46039f\"],[0.2222222222222222,\"#7201a8\"],[0.3333333333333333,\"#9c179e\"],[0.4444444444444444,\"#bd3786\"],[0.5555555555555556,\"#d8576b\"],[0.6666666666666666,\"#ed7953\"],[0.7777777777777778,\"#fb9f3a\"],[0.8888888888888888,\"#fdca26\"],[1.0,\"#f0f921\"]]}],\"heatmap\":[{\"type\":\"heatmap\",\"colorbar\":{\"outlinewidth\":0,\"ticks\":\"\"},\"colorscale\":[[0.0,\"#0d0887\"],[0.1111111111111111,\"#46039f\"],[0.2222222222222222,\"#7201a8\"],[0.3333333333333333,\"#9c179e\"],[0.4444444444444444,\"#bd3786\"],[0.5555555555555556,\"#d8576b\"],[0.6666666666666666,\"#ed7953\"],[0.7777777777777778,\"#fb9f3a\"],[0.8888888888888888,\"#fdca26\"],[1.0,\"#f0f921\"]]}],\"heatmapgl\":[{\"type\":\"heatmapgl\",\"colorbar\":{\"outlinewidth\":0,\"ticks\":\"\"},\"colorscale\":[[0.0,\"#0d0887\"],[0.1111111111111111,\"#46039f\"],[0.2222222222222222,\"#7201a8\"],[0.3333333333333333,\"#9c179e\"],[0.4444444444444444,\"#bd3786\"],[0.5555555555555556,\"#d8576b\"],[0.6666666666666666,\"#ed7953\"],[0.7777777777777778,\"#fb9f3a\"],[0.8888888888888888,\"#fdca26\"],[1.0,\"#f0f921\"]]}],\"contourcarpet\":[{\"type\":\"contourcarpet\",\"colorbar\":{\"outlinewidth\":0,\"ticks\":\"\"}}],\"contour\":[{\"type\":\"contour\",\"colorbar\":{\"outlinewidth\":0,\"ticks\":\"\"},\"colorscale\":[[0.0,\"#0d0887\"],[0.1111111111111111,\"#46039f\"],[0.2222222222222222,\"#7201a8\"],[0.3333333333333333,\"#9c179e\"],[0.4444444444444444,\"#bd3786\"],[0.5555555555555556,\"#d8576b\"],[0.6666666666666666,\"#ed7953\"],[0.7777777777777778,\"#fb9f3a\"],[0.8888888888888888,\"#fdca26\"],[1.0,\"#f0f921\"]]}],\"surface\":[{\"type\":\"surface\",\"colorbar\":{\"outlinewidth\":0,\"ticks\":\"\"},\"colorscale\":[[0.0,\"#0d0887\"],[0.1111111111111111,\"#46039f\"],[0.2222222222222222,\"#7201a8\"],[0.3333333333333333,\"#9c179e\"],[0.4444444444444444,\"#bd3786\"],[0.5555555555555556,\"#d8576b\"],[0.6666666666666666,\"#ed7953\"],[0.7777777777777778,\"#fb9f3a\"],[0.8888888888888888,\"#fdca26\"],[1.0,\"#f0f921\"]]}],\"mesh3d\":[{\"type\":\"mesh3d\",\"colorbar\":{\"outlinewidth\":0,\"ticks\":\"\"}}],\"scatter\":[{\"fillpattern\":{\"fillmode\":\"overlay\",\"size\":10,\"solidity\":0.2},\"type\":\"scatter\"}],\"parcoords\":[{\"type\":\"parcoords\",\"line\":{\"colorbar\":{\"outlinewidth\":0,\"ticks\":\"\"}}}],\"scatterpolargl\":[{\"type\":\"scatterpolargl\",\"marker\":{\"colorbar\":{\"outlinewidth\":0,\"ticks\":\"\"}}}],\"bar\":[{\"error_x\":{\"color\":\"#2a3f5f\"},\"error_y\":{\"color\":\"#2a3f5f\"},\"marker\":{\"line\":{\"color\":\"#E5ECF6\",\"width\":0.5},\"pattern\":{\"fillmode\":\"overlay\",\"size\":10,\"solidity\":0.2}},\"type\":\"bar\"}],\"scattergeo\":[{\"type\":\"scattergeo\",\"marker\":{\"colorbar\":{\"outlinewidth\":0,\"ticks\":\"\"}}}],\"scatterpolar\":[{\"type\":\"scatterpolar\",\"marker\":{\"colorbar\":{\"outlinewidth\":0,\"ticks\":\"\"}}}],\"histogram\":[{\"marker\":{\"pattern\":{\"fillmode\":\"overlay\",\"size\":10,\"solidity\":0.2}},\"type\":\"histogram\"}],\"scattergl\":[{\"type\":\"scattergl\",\"marker\":{\"colorbar\":{\"outlinewidth\":0,\"ticks\":\"\"}}}],\"scatter3d\":[{\"type\":\"scatter3d\",\"line\":{\"colorbar\":{\"outlinewidth\":0,\"ticks\":\"\"}},\"marker\":{\"colorbar\":{\"outlinewidth\":0,\"ticks\":\"\"}}}],\"scattermapbox\":[{\"type\":\"scattermapbox\",\"marker\":{\"colorbar\":{\"outlinewidth\":0,\"ticks\":\"\"}}}],\"scatterternary\":[{\"type\":\"scatterternary\",\"marker\":{\"colorbar\":{\"outlinewidth\":0,\"ticks\":\"\"}}}],\"scattercarpet\":[{\"type\":\"scattercarpet\",\"marker\":{\"colorbar\":{\"outlinewidth\":0,\"ticks\":\"\"}}}],\"carpet\":[{\"aaxis\":{\"endlinecolor\":\"#2a3f5f\",\"gridcolor\":\"white\",\"linecolor\":\"white\",\"minorgridcolor\":\"white\",\"startlinecolor\":\"#2a3f5f\"},\"baxis\":{\"endlinecolor\":\"#2a3f5f\",\"gridcolor\":\"white\",\"linecolor\":\"white\",\"minorgridcolor\":\"white\",\"startlinecolor\":\"#2a3f5f\"},\"type\":\"carpet\"}],\"table\":[{\"cells\":{\"fill\":{\"color\":\"#EBF0F8\"},\"line\":{\"color\":\"white\"}},\"header\":{\"fill\":{\"color\":\"#C8D4E3\"},\"line\":{\"color\":\"white\"}},\"type\":\"table\"}],\"barpolar\":[{\"marker\":{\"line\":{\"color\":\"#E5ECF6\",\"width\":0.5},\"pattern\":{\"fillmode\":\"overlay\",\"size\":10,\"solidity\":0.2}},\"type\":\"barpolar\"}],\"pie\":[{\"automargin\":true,\"type\":\"pie\"}]},\"layout\":{\"autotypenumbers\":\"strict\",\"colorway\":[\"#636efa\",\"#EF553B\",\"#00cc96\",\"#ab63fa\",\"#FFA15A\",\"#19d3f3\",\"#FF6692\",\"#B6E880\",\"#FF97FF\",\"#FECB52\"],\"font\":{\"color\":\"#2a3f5f\"},\"hovermode\":\"closest\",\"hoverlabel\":{\"align\":\"left\"},\"paper_bgcolor\":\"white\",\"plot_bgcolor\":\"#E5ECF6\",\"polar\":{\"bgcolor\":\"#E5ECF6\",\"angularaxis\":{\"gridcolor\":\"white\",\"linecolor\":\"white\",\"ticks\":\"\"},\"radialaxis\":{\"gridcolor\":\"white\",\"linecolor\":\"white\",\"ticks\":\"\"}},\"ternary\":{\"bgcolor\":\"#E5ECF6\",\"aaxis\":{\"gridcolor\":\"white\",\"linecolor\":\"white\",\"ticks\":\"\"},\"baxis\":{\"gridcolor\":\"white\",\"linecolor\":\"white\",\"ticks\":\"\"},\"caxis\":{\"gridcolor\":\"white\",\"linecolor\":\"white\",\"ticks\":\"\"}},\"coloraxis\":{\"colorbar\":{\"outlinewidth\":0,\"ticks\":\"\"}},\"colorscale\":{\"sequential\":[[0.0,\"#0d0887\"],[0.1111111111111111,\"#46039f\"],[0.2222222222222222,\"#7201a8\"],[0.3333333333333333,\"#9c179e\"],[0.4444444444444444,\"#bd3786\"],[0.5555555555555556,\"#d8576b\"],[0.6666666666666666,\"#ed7953\"],[0.7777777777777778,\"#fb9f3a\"],[0.8888888888888888,\"#fdca26\"],[1.0,\"#f0f921\"]],\"sequentialminus\":[[0.0,\"#0d0887\"],[0.1111111111111111,\"#46039f\"],[0.2222222222222222,\"#7201a8\"],[0.3333333333333333,\"#9c179e\"],[0.4444444444444444,\"#bd3786\"],[0.5555555555555556,\"#d8576b\"],[0.6666666666666666,\"#ed7953\"],[0.7777777777777778,\"#fb9f3a\"],[0.8888888888888888,\"#fdca26\"],[1.0,\"#f0f921\"]],\"diverging\":[[0,\"#8e0152\"],[0.1,\"#c51b7d\"],[0.2,\"#de77ae\"],[0.3,\"#f1b6da\"],[0.4,\"#fde0ef\"],[0.5,\"#f7f7f7\"],[0.6,\"#e6f5d0\"],[0.7,\"#b8e186\"],[0.8,\"#7fbc41\"],[0.9,\"#4d9221\"],[1,\"#276419\"]]},\"xaxis\":{\"gridcolor\":\"white\",\"linecolor\":\"white\",\"ticks\":\"\",\"title\":{\"standoff\":15},\"zerolinecolor\":\"white\",\"automargin\":true,\"zerolinewidth\":2},\"yaxis\":{\"gridcolor\":\"white\",\"linecolor\":\"white\",\"ticks\":\"\",\"title\":{\"standoff\":15},\"zerolinecolor\":\"white\",\"automargin\":true,\"zerolinewidth\":2},\"scene\":{\"xaxis\":{\"backgroundcolor\":\"#E5ECF6\",\"gridcolor\":\"white\",\"linecolor\":\"white\",\"showbackground\":true,\"ticks\":\"\",\"zerolinecolor\":\"white\",\"gridwidth\":2},\"yaxis\":{\"backgroundcolor\":\"#E5ECF6\",\"gridcolor\":\"white\",\"linecolor\":\"white\",\"showbackground\":true,\"ticks\":\"\",\"zerolinecolor\":\"white\",\"gridwidth\":2},\"zaxis\":{\"backgroundcolor\":\"#E5ECF6\",\"gridcolor\":\"white\",\"linecolor\":\"white\",\"showbackground\":true,\"ticks\":\"\",\"zerolinecolor\":\"white\",\"gridwidth\":2}},\"shapedefaults\":{\"line\":{\"color\":\"#2a3f5f\"}},\"annotationdefaults\":{\"arrowcolor\":\"#2a3f5f\",\"arrowhead\":0,\"arrowwidth\":1},\"geo\":{\"bgcolor\":\"white\",\"landcolor\":\"#E5ECF6\",\"subunitcolor\":\"white\",\"showland\":true,\"showlakes\":true,\"lakecolor\":\"white\"},\"title\":{\"x\":0.05},\"mapbox\":{\"style\":\"light\"}}},\"xaxis\":{\"anchor\":\"y\",\"domain\":[0.0,1.0],\"title\":{\"text\":\"Category\"},\"categoryorder\":\"array\",\"categoryarray\":[\"A\",\"B\",\"C\",\"D\",\"E\"]},\"yaxis\":{\"anchor\":\"x\",\"domain\":[0.0,1.0],\"title\":{\"text\":\"Count\"}},\"legend\":{\"title\":{\"text\":\"Category\"},\"tracegroupgap\":0},\"title\":{\"text\":\"Sample Bar Plot\"},\"barmode\":\"relative\"},                        {\"responsive\": true}                    ).then(function(){\n",
              "                            \n",
              "var gd = document.getElementById('44dba366-d49b-479f-b89f-caaa9b44a1c9');\n",
              "var x = new MutationObserver(function (mutations, observer) {{\n",
              "        var display = window.getComputedStyle(gd).display;\n",
              "        if (!display || display === 'none') {{\n",
              "            console.log([gd, 'removed!']);\n",
              "            Plotly.purge(gd);\n",
              "            observer.disconnect();\n",
              "        }}\n",
              "}});\n",
              "\n",
              "// Listen for the removal of the full notebook cells\n",
              "var notebookContainer = gd.closest('#notebook-container');\n",
              "if (notebookContainer) {{\n",
              "    x.observe(notebookContainer, {childList: true});\n",
              "}}\n",
              "\n",
              "// Listen for the clearing of the current output cell\n",
              "var outputEl = gd.closest('.output');\n",
              "if (outputEl) {{\n",
              "    x.observe(outputEl, {childList: true});\n",
              "}}\n",
              "\n",
              "                        })                };                            </script>        </div>\n",
              "</body>\n",
              "</html>"
            ]
          },
          "metadata": {}
        }
      ]
    },
    {
      "cell_type": "markdown",
      "source": [
        "## **Q6.Create a DataFrame and add a new column based on an existing column.**"
      ],
      "metadata": {
        "id": "aQwZ-Qi9Quel"
      }
    },
    {
      "cell_type": "code",
      "source": [
        "import pandas as pd\n",
        "\n",
        "data = {\n",
        "    'Name':['Pankaj','Rajat','Raman'],\n",
        "    'Salary':[50000,45000,50000]\n",
        "}\n",
        "\n",
        "df = pd.DataFrame(data)\n",
        "\n",
        "df['Bonus'] = df['Salary'] * 0.10\n",
        "\n",
        "df['Total Compension'] = df['Salary'] + df['Bonus']\n",
        "\n",
        "print(df)\n",
        "\n"
      ],
      "metadata": {
        "colab": {
          "base_uri": "https://localhost:8080/"
        },
        "id": "562k0g65Q5WU",
        "outputId": "57af4137-2196-43e2-d21c-2e4d0ad72b59"
      },
      "execution_count": 20,
      "outputs": [
        {
          "output_type": "stream",
          "name": "stdout",
          "text": [
            "     Name  Salary   Bonus  Total Compension\n",
            "0  Pankaj   50000  5000.0           55000.0\n",
            "1   Rajat   45000  4500.0           49500.0\n",
            "2   Raman   50000  5000.0           55000.0\n"
          ]
        }
      ]
    },
    {
      "cell_type": "markdown",
      "source": [
        "## **Q7.Write a program to perform element-wise multiplication of two NumPy arrays.**"
      ],
      "metadata": {
        "id": "v5dAMItqRrcM"
      }
    },
    {
      "cell_type": "code",
      "source": [
        "import numpy as np\n",
        "\n",
        "arr1 = np.array([1,2,3,4,5])\n",
        "arr2 = np.array([10,20,30,40,50])\n",
        "\n",
        "result = arr1 * arr2\n",
        "\n",
        "print(\"Element-wise Multiplication Result:\",result)"
      ],
      "metadata": {
        "colab": {
          "base_uri": "https://localhost:8080/"
        },
        "id": "QSc-YHtKRw7z",
        "outputId": "33effe36-8d64-4fef-fd8f-f565b6f3f60f"
      },
      "execution_count": 21,
      "outputs": [
        {
          "output_type": "stream",
          "name": "stdout",
          "text": [
            "Element-wise Multiplication Result: [ 10  40  90 160 250]\n"
          ]
        }
      ]
    },
    {
      "cell_type": "markdown",
      "source": [
        "## **Q8.A Create a line plot with multiple lines using Matplotlib.**"
      ],
      "metadata": {
        "id": "Xp-uBRCESPji"
      }
    },
    {
      "cell_type": "code",
      "source": [
        "import matplotlib.pyplot as plt\n",
        "import numpy as np\n",
        "\n",
        "#sample data\n",
        "x = np.linspace(0, 10, 100)\n",
        "y1 = np.sin(x)\n",
        "y2 = np.cos(x)\n",
        "y3 = np.tan(x)\n",
        "\n",
        "#creating the plot\n",
        "plt.figure(figsize=(8,5))\n",
        "\n",
        "plt.plot(x, y1, label=\"sin(x)\", color=\"blue\",linestyle=\"-\",linewidth=2)\n",
        "plt.plot(x, y2, label=\"cos(x)\", color=\"red\",linestyle=\"--\",linewidth=2)\n",
        "plt.plot(x, y3, label=\"tan(x)\", color=\"green\",linestyle=\":\",linewidth=2)\n",
        "\n",
        "plt.xlabel(\"X-axis\")\n",
        "plt.ylabel(\"Y-axis\")\n",
        "plt.title(\"Multiple line Plot Example\")\n",
        "plt.legend()\n",
        "\n",
        "\n",
        "plt.show()\n"
      ],
      "metadata": {
        "colab": {
          "base_uri": "https://localhost:8080/",
          "height": 447
        },
        "id": "OSdt4go8Sa0r",
        "outputId": "6fc48491-b48b-4f3c-aa90-5d8ebf0cee5e"
      },
      "execution_count": 29,
      "outputs": [
        {
          "output_type": "display_data",
          "data": {
            "text/plain": [
              "<Figure size 800x500 with 1 Axes>"
            ],
            "image/png": "[encoded data removed]"
          },
          "metadata": {}
        }
      ]
    },
    {
      "cell_type": "markdown",
      "source": [
        "## **Q9.Generate a Pandas DataFrame and filter rows where a column value is greater than a threshold.**"
      ],
      "metadata": {
        "id": "rXsKun3fV1_n"
      }
    },
    {
      "cell_type": "code",
      "source": [
        "import pandas as pd\n",
        "\n",
        "data = {\n",
        "    'Name':[\"Pankaj\",\"Bob\",\"Charlie\",\"Raman\",\"Rajat\"],\n",
        "    'Age':[24,34,23,28,23],\n",
        "    'Salary':[50000,50000,34000,45000,56000]\n",
        "}\n",
        "\n",
        "df = pd.DataFrame(data)\n",
        "\n",
        "\n",
        "threshold = 50000\n",
        "filteres_df = df[df['Salary']> threshold]\n",
        "\n",
        "print(filteres_df)"
      ],
      "metadata": {
        "colab": {
          "base_uri": "https://localhost:8080/"
        },
        "id": "-QLokD4OV9qD",
        "outputId": "f786efe5-6740-4bf3-dbfa-7124892ebc0d"
      },
      "execution_count": 31,
      "outputs": [
        {
          "output_type": "stream",
          "name": "stdout",
          "text": [
            "    Name  Age  Salary\n",
            "4  Rajat   23   56000\n"
          ]
        }
      ]
    },
    {
      "cell_type": "markdown",
      "source": [
        "## **Q11.Perform matrix multiplication using NumPy.**"
      ],
      "metadata": {
        "id": "-CHYQZU0XGbF"
      }
    },
    {
      "cell_type": "code",
      "source": [
        "import numpy as np\n",
        "\n",
        "A = np.array([[1,2],[3,4]])\n",
        "\n",
        "B = np.array([[5,6],[7,8]])\n",
        "\n",
        "result = A @ B\n",
        "\n",
        "\n",
        "print(\"Matrix A:\\n\",A)\n",
        "print(\"Matrix B:\\n\",B)\n",
        "print(\"Result of A * B:\\n\", result)"
      ],
      "metadata": {
        "colab": {
          "base_uri": "https://localhost:8080/"
        },
        "id": "TLBTG14BXR5e",
        "outputId": "886a22aa-e98c-4a54-9e23-09cfe0ca1346"
      },
      "execution_count": 32,
      "outputs": [
        {
          "output_type": "stream",
          "name": "stdout",
          "text": [
            "Matrix A:\n",
            " [[1 2]\n",
            " [3 4]]\n",
            "Matrix B:\n",
            " [[5 6]\n",
            " [7 8]]\n",
            "Result of A * B:\n",
            " [[19 22]\n",
            " [43 50]]\n"
          ]
        }
      ]
    },
    {
      "cell_type": "markdown",
      "source": [
        "## **Q12.Use Pandas to load a CSV file and display its first 5 rows.**"
      ],
      "metadata": {
        "id": "Mf5asetzYdIb"
      }
    },
    {
      "cell_type": "code",
      "source": [
        "import pandas as pd\n",
        "import os\n",
        "\n",
        "df = pd.read_csv(\"/Data.csv\")\n",
        "\n",
        "df.head()\n"
      ],
      "metadata": {
        "colab": {
          "base_uri": "https://localhost:8080/",
          "height": 244
        },
        "id": "JHnnzHsMYjcX",
        "outputId": "1736f818-72de-4c61-a1ea-3e296df2d06c"
      },
      "execution_count": 80,
      "outputs": [
        {
          "output_type": "execute_result",
          "data": {
            "text/plain": [
              "    ID      Name  Age  Salary\n",
              "0  101    Pankaj   23   45000\n",
              "1  102     Rajat   22   45000\n",
              "2  103     Raman   25   47000\n",
              "3  104    Daljit   23   48000\n",
              "4  105  Abhishek   23   50000"
            ],
            "text/html": [
              "\n",
              "  <div id=\"df-29175b46-6688-4ce1-80c8-c62824417540\" class=\"colab-df-container\">\n",
              "    <div>\n",
              "<style scoped>\n",
              "    .dataframe tbody tr th:only-of-type {\n",
              "        vertical-align: middle;\n",
              "    }\n",
              "\n",
              "    .dataframe tbody tr th {\n",
              "        vertical-align: top;\n",
              "    }\n",
              "\n",
              "    .dataframe thead th {\n",
              "        text-align: right;\n",
              "    }\n",
              "</style>\n",
              "<table border=\"1\" class=\"dataframe\">\n",
              "  <thead>\n",
              "    <tr style=\"text-align: right;\">\n",
              "      <th></th>\n",
              "      <th>ID</th>\n",
              "      <th>Name</th>\n",
              "      <th>Age</th>\n",
              "      <th>Salary</th>\n",
              "    </tr>\n",
              "  </thead>\n",
              "  <tbody>\n",
              "    <tr>\n",
              "      <th>0</th>\n",
              "      <td>101</td>\n",
              "      <td>Pankaj</td>\n",
              "      <td>23</td>\n",
              "      <td>45000</td>\n",
              "    </tr>\n",
              "    <tr>\n",
              "      <th>1</th>\n",
              "      <td>102</td>\n",
              "      <td>Rajat</td>\n",
              "      <td>22</td>\n",
              "      <td>45000</td>\n",
              "    </tr>\n",
              "    <tr>\n",
              "      <th>2</th>\n",
              "      <td>103</td>\n",
              "      <td>Raman</td>\n",
              "      <td>25</td>\n",
              "      <td>47000</td>\n",
              "    </tr>\n",
              "    <tr>\n",
              "      <th>3</th>\n",
              "      <td>104</td>\n",
              "      <td>Daljit</td>\n",
              "      <td>23</td>\n",
              "      <td>48000</td>\n",
              "    </tr>\n",
              "    <tr>\n",
              "      <th>4</th>\n",
              "      <td>105</td>\n",
              "      <td>Abhishek</td>\n",
              "      <td>23</td>\n",
              "      <td>50000</td>\n",
              "    </tr>\n",
              "  </tbody>\n",
              "</table>\n",
              "</div>\n",
              "    <div class=\"colab-df-buttons\">\n",
              "\n",
              "  <div class=\"colab-df-container\">\n",
              "    <button class=\"colab-df-convert\" onclick=\"convertToInteractive('df-29175b46-6688-4ce1-80c8-c62824417540')\"\n",
              "            title=\"Convert this dataframe to an interactive table.\"\n",
              "            style=\"display:none;\">\n",
              "\n",
              "  <svg xmlns=\"http://www.w3.org/2000/svg\" height=\"24px\" viewBox=\"0 -960 960 960\">\n",
              "    <path d=\"M120-120v-720h720v720H120Zm60-500h600v-160H180v160Zm220 220h160v-160H400v160Zm0 220h160v-160H400v160ZM180-400h160v-160H180v160Zm440 0h160v-160H620v160ZM180-180h160v-160H180v160Zm440 0h160v-160H620v160Z\"/>\n",
              "  </svg>\n",
              "    </button>\n",
              "\n",
              "  <style>\n",
              "    .colab-df-container {\n",
              "      display:flex;\n",
              "      gap: 12px;\n",
              "    }\n",
              "\n",
              "    .colab-df-convert {\n",
              "      background-color: #E8F0FE;\n",
              "      border: none;\n",
              "      border-radius: 50%;\n",
              "      cursor: pointer;\n",
              "      display: none;\n",
              "      fill: #1967D2;\n",
              "      height: 32px;\n",
              "      padding: 0 0 0 0;\n",
              "      width: 32px;\n",
              "    }\n",
              "\n",
              "    .colab-df-convert:hover {\n",
              "      background-color: #E2EBFA;\n",
              "      box-shadow: 0px 1px 2px rgba(60, 64, 67, 0.3), 0px 1px 3px 1px rgba(60, 64, 67, 0.15);\n",
              "      fill: #174EA6;\n",
              "    }\n",
              "\n",
              "    .colab-df-buttons div {\n",
              "      margin-bottom: 4px;\n",
              "    }\n",
              "\n",
              "    [theme=dark] .colab-df-convert {\n",
              "      background-color: #3B4455;\n",
              "      fill: #D2E3FC;\n",
              "    }\n",
              "\n",
              "    [theme=dark] .colab-df-convert:hover {\n",
              "      background-color: #434B5C;\n",
              "      box-shadow: 0px 1px 3px 1px rgba(0, 0, 0, 0.15);\n",
              "      filter: drop-shadow(0px 1px 2px rgba(0, 0, 0, 0.3));\n",
              "      fill: #FFFFFF;\n",
              "    }\n",
              "  </style>\n",
              "\n",
              "    <script>\n",
              "      const buttonEl =\n",
              "        document.querySelector('#df-29175b46-6688-4ce1-80c8-c62824417540 button.colab-df-convert');\n",
              "      buttonEl.style.display =\n",
              "        google.colab.kernel.accessAllowed ? 'block' : 'none';\n",
              "\n",
              "      async function convertToInteractive(key) {\n",
              "        const element = document.querySelector('#df-29175b46-6688-4ce1-80c8-c62824417540');\n",
              "        const dataTable =\n",
              "          await google.colab.kernel.invokeFunction('convertToInteractive',\n",
              "                                                    [key], {});\n",
              "        if (!dataTable) return;\n",
              "\n",
              "        const docLinkHtml = 'Like what you see? Visit the ' +\n",
              "          '<a target=\"_blank\" href=https://colab.research.google.com/notebooks/data_table.ipynb>data table notebook</a>'\n",
              "          + ' to learn more about interactive tables.';\n",
              "        element.innerHTML = '';\n",
              "        dataTable['output_type'] = 'display_data';\n",
              "        await google.colab.output.renderOutput(dataTable, element);\n",
              "        const docLink = document.createElement('div');\n",
              "        docLink.innerHTML = docLinkHtml;\n",
              "        element.appendChild(docLink);\n",
              "      }\n",
              "    </script>\n",
              "  </div>\n",
              "\n",
              "\n",
              "<div id=\"df-3b90362d-ead7-4ac4-91cb-d4a1c18fc9f5\">\n",
              "  <button class=\"colab-df-quickchart\" onclick=\"quickchart('df-3b90362d-ead7-4ac4-91cb-d4a1c18fc9f5')\"\n",
              "            title=\"Suggest charts\"\n",
              "            style=\"display:none;\">\n",
              "\n",
              "<svg xmlns=\"http://www.w3.org/2000/svg\" height=\"24px\"viewBox=\"0 0 24 24\"\n",
              "     width=\"24px\">\n",
              "    <g>\n",
              "        <path d=\"M19 3H5c-1.1 0-2 .9-2 2v14c0 1.1.9 2 2 2h14c1.1 0 2-.9 2-2V5c0-1.1-.9-2-2-2zM9 17H7v-7h2v7zm4 0h-2V7h2v10zm4 0h-2v-4h2v4z\"/>\n",
              "    </g>\n",
              "</svg>\n",
              "  </button>\n",
              "\n",
              "<style>\n",
              "  .colab-df-quickchart {\n",
              "      --bg-color: #E8F0FE;\n",
              "      --fill-color: #1967D2;\n",
              "      --hover-bg-color: #E2EBFA;\n",
              "      --hover-fill-color: #174EA6;\n",
              "      --disabled-fill-color: #AAA;\n",
              "      --disabled-bg-color: #DDD;\n",
              "  }\n",
              "\n",
              "  [theme=dark] .colab-df-quickchart {\n",
              "      --bg-color: #3B4455;\n",
              "      --fill-color: #D2E3FC;\n",
              "      --hover-bg-color: #434B5C;\n",
              "      --hover-fill-color: #FFFFFF;\n",
              "      --disabled-bg-color: #3B4455;\n",
              "      --disabled-fill-color: #666;\n",
              "  }\n",
              "\n",
              "  .colab-df-quickchart {\n",
              "    background-color: var(--bg-color);\n",
              "    border: none;\n",
              "    border-radius: 50%;\n",
              "    cursor: pointer;\n",
              "    display: none;\n",
              "    fill: var(--fill-color);\n",
              "    height: 32px;\n",
              "    padding: 0;\n",
              "    width: 32px;\n",
              "  }\n",
              "\n",
              "  .colab-df-quickchart:hover {\n",
              "    background-color: var(--hover-bg-color);\n",
              "    box-shadow: 0 1px 2px rgba(60, 64, 67, 0.3), 0 1px 3px 1px rgba(60, 64, 67, 0.15);\n",
              "    fill: var(--button-hover-fill-color);\n",
              "  }\n",
              "\n",
              "  .colab-df-quickchart-complete:disabled,\n",
              "  .colab-df-quickchart-complete:disabled:hover {\n",
              "    background-color: var(--disabled-bg-color);\n",
              "    fill: var(--disabled-fill-color);\n",
              "    box-shadow: none;\n",
              "  }\n",
              "\n",
              "  .colab-df-spinner {\n",
              "    border: 2px solid var(--fill-color);\n",
              "    border-color: transparent;\n",
              "    border-bottom-color: var(--fill-color);\n",
              "    animation:\n",
              "      spin 1s steps(1) infinite;\n",
              "  }\n",
              "\n",
              "  @keyframes spin {\n",
              "    0% {\n",
              "      border-color: transparent;\n",
              "      border-bottom-color: var(--fill-color);\n",
              "      border-left-color: var(--fill-color);\n",
              "    }\n",
              "    20% {\n",
              "      border-color: transparent;\n",
              "      border-left-color: var(--fill-color);\n",
              "      border-top-color: var(--fill-color);\n",
              "    }\n",
              "    30% {\n",
              "      border-color: transparent;\n",
              "      border-left-color: var(--fill-color);\n",
              "      border-top-color: var(--fill-color);\n",
              "      border-right-color: var(--fill-color);\n",
              "    }\n",
              "    40% {\n",
              "      border-color: transparent;\n",
              "      border-right-color: var(--fill-color);\n",
              "      border-top-color: var(--fill-color);\n",
              "    }\n",
              "    60% {\n",
              "      border-color: transparent;\n",
              "      border-right-color: var(--fill-color);\n",
              "    }\n",
              "    80% {\n",
              "      border-color: transparent;\n",
              "      border-right-color: var(--fill-color);\n",
              "      border-bottom-color: var(--fill-color);\n",
              "    }\n",
              "    90% {\n",
              "      border-color: transparent;\n",
              "      border-bottom-color: var(--fill-color);\n",
              "    }\n",
              "  }\n",
              "</style>\n",
              "\n",
              "  <script>\n",
              "    async function quickchart(key) {\n",
              "      const quickchartButtonEl =\n",
              "        document.querySelector('#' + key + ' button');\n",
              "      quickchartButtonEl.disabled = true;  // To prevent multiple clicks.\n",
              "      quickchartButtonEl.classList.add('colab-df-spinner');\n",
              "      try {\n",
              "        const charts = await google.colab.kernel.invokeFunction(\n",
              "            'suggestCharts', [key], {});\n",
              "      } catch (error) {\n",
              "        console.error('Error during call to suggestCharts:', error);\n",
              "      }\n",
              "      quickchartButtonEl.classList.remove('colab-df-spinner');\n",
              "      quickchartButtonEl.classList.add('colab-df-quickchart-complete');\n",
              "    }\n",
              "    (() => {\n",
              "      let quickchartButtonEl =\n",
              "        document.querySelector('#df-3b90362d-ead7-4ac4-91cb-d4a1c18fc9f5 button');\n",
              "      quickchartButtonEl.style.display =\n",
              "        google.colab.kernel.accessAllowed ? 'block' : 'none';\n",
              "    })();\n",
              "  </script>\n",
              "</div>\n",
              "\n",
              "    </div>\n",
              "  </div>\n"
            ],
            "application/vnd.google.colaboratory.intrinsic+json": {
              "type": "dataframe",
              "variable_name": "df",
              "summary": "{\n  \"name\": \"df\",\n  \"rows\": 7,\n  \"fields\": [\n    {\n      \"column\": \"ID\",\n      \"properties\": {\n        \"dtype\": \"number\",\n        \"std\": 2,\n        \"min\": 101,\n        \"max\": 107,\n        \"num_unique_values\": 7,\n        \"samples\": [\n          101,\n          102,\n          106\n        ],\n        \"semantic_type\": \"\",\n        \"description\": \"\"\n      }\n    },\n    {\n      \"column\": \"Name\",\n      \"properties\": {\n        \"dtype\": \"string\",\n        \"num_unique_values\": 7,\n        \"samples\": [\n          \"Pankaj\",\n          \"Rajat\",\n          \"Abhay\"\n        ],\n        \"semantic_type\": \"\",\n        \"description\": \"\"\n      }\n    },\n    {\n      \"column\": \"Age\",\n      \"properties\": {\n        \"dtype\": \"number\",\n        \"std\": 1,\n        \"min\": 22,\n        \"max\": 25,\n        \"num_unique_values\": 4,\n        \"samples\": [\n          22,\n          24,\n          23\n        ],\n        \"semantic_type\": \"\",\n        \"description\": \"\"\n      }\n    },\n    {\n      \"column\": \"Salary\",\n      \"properties\": {\n        \"dtype\": \"number\",\n        \"std\": 5304,\n        \"min\": 35000,\n        \"max\": 51000,\n        \"num_unique_values\": 6,\n        \"samples\": [\n          45000,\n          47000,\n          35000\n        ],\n        \"semantic_type\": \"\",\n        \"description\": \"\"\n      }\n    }\n  ]\n}"
            }
          },
          "metadata": {},
          "execution_count": 80
        }
      ]
    },
    {
      "cell_type": "markdown",
      "source": [
        "## **Q13.Create a 3D scatter plot using Plotly.**"
      ],
      "metadata": {
        "id": "kBERO_ctYXl7"
      }
    },
    {
      "cell_type": "code",
      "source": [
        "import plotly.graph_objects as go\n",
        "import numpy as np\n",
        "\n",
        "x=[1, 2, 3, 4]\n",
        "y=[10, 11, 12, 13]\n",
        "z=[5, 6, 7, 8]\n",
        "\n",
        "# 3D Scatter Plot\n",
        "fig = px.scatter_3d(x=x, y=y, z=z)\n",
        "fig.show()"
      ],
      "metadata": {
        "colab": {
          "base_uri": "https://localhost:8080/",
          "height": 542
        },
        "id": "-gHaaoYKl2H4",
        "outputId": "12777f4d-2a45-48d5-9417-08cd34c77489"
      },
      "execution_count": 81,
      "outputs": [
        {
          "output_type": "display_data",
          "data": {
            "text/html": [
              "<html>\n",
              "<head><meta charset=\"utf-8\" /></head>\n",
              "<body>\n",
              "    <div>            <script src=\"https://cdnjs.cloudflare.com/ajax/libs/mathjax/2.7.5/MathJax.js?config=TeX-AMS-MML_SVG\"></script><script type=\"text/javascript\">if (window.MathJax && window.MathJax.Hub && window.MathJax.Hub.Config) {window.MathJax.Hub.Config({SVG: {font: \"STIX-Web\"}});}</script>                <script type=\"text/javascript\">window.PlotlyConfig = {MathJaxConfig: 'local'};</script>\n",
              "        <script charset=\"utf-8\" src=\"https://cdn.plot.ly/plotly-2.35.2.min.js\"></script>                <div id=\"a20eec0b-c556-4d08-b997-343934122929\" class=\"plotly-graph-div\" style=\"height:525px; width:100%;\"></div>            <script type=\"text/javascript\">                                    window.PLOTLYENV=window.PLOTLYENV || {};                                    if (document.getElementById(\"a20eec0b-c556-4d08-b997-343934122929\")) {                    Plotly.newPlot(                        \"a20eec0b-c556-4d08-b997-343934122929\",                        [{\"hovertemplate\":\"x=%{x}\\u003cbr\\u003ey=%{y}\\u003cbr\\u003ez=%{z}\\u003cextra\\u003e\\u003c\\u002fextra\\u003e\",\"legendgroup\":\"\",\"marker\":{\"color\":\"#636efa\",\"symbol\":\"circle\"},\"mode\":\"markers\",\"name\":\"\",\"scene\":\"scene\",\"showlegend\":false,\"x\":[1,2,3,4],\"y\":[10,11,12,13],\"z\":[5,6,7,8],\"type\":\"scatter3d\"}],                        {\"template\":{\"data\":{\"histogram2dcontour\":[{\"type\":\"histogram2dcontour\",\"colorbar\":{\"outlinewidth\":0,\"ticks\":\"\"},\"colorscale\":[[0.0,\"#0d0887\"],[0.1111111111111111,\"#46039f\"],[0.2222222222222222,\"#7201a8\"],[0.3333333333333333,\"#9c179e\"],[0.4444444444444444,\"#bd3786\"],[0.5555555555555556,\"#d8576b\"],[0.6666666666666666,\"#ed7953\"],[0.7777777777777778,\"#fb9f3a\"],[0.8888888888888888,\"#fdca26\"],[1.0,\"#f0f921\"]]}],\"choropleth\":[{\"type\":\"choropleth\",\"colorbar\":{\"outlinewidth\":0,\"ticks\":\"\"}}],\"histogram2d\":[{\"type\":\"histogram2d\",\"colorbar\":{\"outlinewidth\":0,\"ticks\":\"\"},\"colorscale\":[[0.0,\"#0d0887\"],[0.1111111111111111,\"#46039f\"],[0.2222222222222222,\"#7201a8\"],[0.3333333333333333,\"#9c179e\"],[0.4444444444444444,\"#bd3786\"],[0.5555555555555556,\"#d8576b\"],[0.6666666666666666,\"#ed7953\"],[0.7777777777777778,\"#fb9f3a\"],[0.8888888888888888,\"#fdca26\"],[1.0,\"#f0f921\"]]}],\"heatmap\":[{\"type\":\"heatmap\",\"colorbar\":{\"outlinewidth\":0,\"ticks\":\"\"},\"colorscale\":[[0.0,\"#0d0887\"],[0.1111111111111111,\"#46039f\"],[0.2222222222222222,\"#7201a8\"],[0.3333333333333333,\"#9c179e\"],[0.4444444444444444,\"#bd3786\"],[0.5555555555555556,\"#d8576b\"],[0.6666666666666666,\"#ed7953\"],[0.7777777777777778,\"#fb9f3a\"],[0.8888888888888888,\"#fdca26\"],[1.0,\"#f0f921\"]]}],\"heatmapgl\":[{\"type\":\"heatmapgl\",\"colorbar\":{\"outlinewidth\":0,\"ticks\":\"\"},\"colorscale\":[[0.0,\"#0d0887\"],[0.1111111111111111,\"#46039f\"],[0.2222222222222222,\"#7201a8\"],[0.3333333333333333,\"#9c179e\"],[0.4444444444444444,\"#bd3786\"],[0.5555555555555556,\"#d8576b\"],[0.6666666666666666,\"#ed7953\"],[0.7777777777777778,\"#fb9f3a\"],[0.8888888888888888,\"#fdca26\"],[1.0,\"#f0f921\"]]}],\"contourcarpet\":[{\"type\":\"contourcarpet\",\"colorbar\":{\"outlinewidth\":0,\"ticks\":\"\"}}],\"contour\":[{\"type\":\"contour\",\"colorbar\":{\"outlinewidth\":0,\"ticks\":\"\"},\"colorscale\":[[0.0,\"#0d0887\"],[0.1111111111111111,\"#46039f\"],[0.2222222222222222,\"#7201a8\"],[0.3333333333333333,\"#9c179e\"],[0.4444444444444444,\"#bd3786\"],[0.5555555555555556,\"#d8576b\"],[0.6666666666666666,\"#ed7953\"],[0.7777777777777778,\"#fb9f3a\"],[0.8888888888888888,\"#fdca26\"],[1.0,\"#f0f921\"]]}],\"surface\":[{\"type\":\"surface\",\"colorbar\":{\"outlinewidth\":0,\"ticks\":\"\"},\"colorscale\":[[0.0,\"#0d0887\"],[0.1111111111111111,\"#46039f\"],[0.2222222222222222,\"#7201a8\"],[0.3333333333333333,\"#9c179e\"],[0.4444444444444444,\"#bd3786\"],[0.5555555555555556,\"#d8576b\"],[0.6666666666666666,\"#ed7953\"],[0.7777777777777778,\"#fb9f3a\"],[0.8888888888888888,\"#fdca26\"],[1.0,\"#f0f921\"]]}],\"mesh3d\":[{\"type\":\"mesh3d\",\"colorbar\":{\"outlinewidth\":0,\"ticks\":\"\"}}],\"scatter\":[{\"fillpattern\":{\"fillmode\":\"overlay\",\"size\":10,\"solidity\":0.2},\"type\":\"scatter\"}],\"parcoords\":[{\"type\":\"parcoords\",\"line\":{\"colorbar\":{\"outlinewidth\":0,\"ticks\":\"\"}}}],\"scatterpolargl\":[{\"type\":\"scatterpolargl\",\"marker\":{\"colorbar\":{\"outlinewidth\":0,\"ticks\":\"\"}}}],\"bar\":[{\"error_x\":{\"color\":\"#2a3f5f\"},\"error_y\":{\"color\":\"#2a3f5f\"},\"marker\":{\"line\":{\"color\":\"#E5ECF6\",\"width\":0.5},\"pattern\":{\"fillmode\":\"overlay\",\"size\":10,\"solidity\":0.2}},\"type\":\"bar\"}],\"scattergeo\":[{\"type\":\"scattergeo\",\"marker\":{\"colorbar\":{\"outlinewidth\":0,\"ticks\":\"\"}}}],\"scatterpolar\":[{\"type\":\"scatterpolar\",\"marker\":{\"colorbar\":{\"outlinewidth\":0,\"ticks\":\"\"}}}],\"histogram\":[{\"marker\":{\"pattern\":{\"fillmode\":\"overlay\",\"size\":10,\"solidity\":0.2}},\"type\":\"histogram\"}],\"scattergl\":[{\"type\":\"scattergl\",\"marker\":{\"colorbar\":{\"outlinewidth\":0,\"ticks\":\"\"}}}],\"scatter3d\":[{\"type\":\"scatter3d\",\"line\":{\"colorbar\":{\"outlinewidth\":0,\"ticks\":\"\"}},\"marker\":{\"colorbar\":{\"outlinewidth\":0,\"ticks\":\"\"}}}],\"scattermapbox\":[{\"type\":\"scattermapbox\",\"marker\":{\"colorbar\":{\"outlinewidth\":0,\"ticks\":\"\"}}}],\"scatterternary\":[{\"type\":\"scatterternary\",\"marker\":{\"colorbar\":{\"outlinewidth\":0,\"ticks\":\"\"}}}],\"scattercarpet\":[{\"type\":\"scattercarpet\",\"marker\":{\"colorbar\":{\"outlinewidth\":0,\"ticks\":\"\"}}}],\"carpet\":[{\"aaxis\":{\"endlinecolor\":\"#2a3f5f\",\"gridcolor\":\"white\",\"linecolor\":\"white\",\"minorgridcolor\":\"white\",\"startlinecolor\":\"#2a3f5f\"},\"baxis\":{\"endlinecolor\":\"#2a3f5f\",\"gridcolor\":\"white\",\"linecolor\":\"white\",\"minorgridcolor\":\"white\",\"startlinecolor\":\"#2a3f5f\"},\"type\":\"carpet\"}],\"table\":[{\"cells\":{\"fill\":{\"color\":\"#EBF0F8\"},\"line\":{\"color\":\"white\"}},\"header\":{\"fill\":{\"color\":\"#C8D4E3\"},\"line\":{\"color\":\"white\"}},\"type\":\"table\"}],\"barpolar\":[{\"marker\":{\"line\":{\"color\":\"#E5ECF6\",\"width\":0.5},\"pattern\":{\"fillmode\":\"overlay\",\"size\":10,\"solidity\":0.2}},\"type\":\"barpolar\"}],\"pie\":[{\"automargin\":true,\"type\":\"pie\"}]},\"layout\":{\"autotypenumbers\":\"strict\",\"colorway\":[\"#636efa\",\"#EF553B\",\"#00cc96\",\"#ab63fa\",\"#FFA15A\",\"#19d3f3\",\"#FF6692\",\"#B6E880\",\"#FF97FF\",\"#FECB52\"],\"font\":{\"color\":\"#2a3f5f\"},\"hovermode\":\"closest\",\"hoverlabel\":{\"align\":\"left\"},\"paper_bgcolor\":\"white\",\"plot_bgcolor\":\"#E5ECF6\",\"polar\":{\"bgcolor\":\"#E5ECF6\",\"angularaxis\":{\"gridcolor\":\"white\",\"linecolor\":\"white\",\"ticks\":\"\"},\"radialaxis\":{\"gridcolor\":\"white\",\"linecolor\":\"white\",\"ticks\":\"\"}},\"ternary\":{\"bgcolor\":\"#E5ECF6\",\"aaxis\":{\"gridcolor\":\"white\",\"linecolor\":\"white\",\"ticks\":\"\"},\"baxis\":{\"gridcolor\":\"white\",\"linecolor\":\"white\",\"ticks\":\"\"},\"caxis\":{\"gridcolor\":\"white\",\"linecolor\":\"white\",\"ticks\":\"\"}},\"coloraxis\":{\"colorbar\":{\"outlinewidth\":0,\"ticks\":\"\"}},\"colorscale\":{\"sequential\":[[0.0,\"#0d0887\"],[0.1111111111111111,\"#46039f\"],[0.2222222222222222,\"#7201a8\"],[0.3333333333333333,\"#9c179e\"],[0.4444444444444444,\"#bd3786\"],[0.5555555555555556,\"#d8576b\"],[0.6666666666666666,\"#ed7953\"],[0.7777777777777778,\"#fb9f3a\"],[0.8888888888888888,\"#fdca26\"],[1.0,\"#f0f921\"]],\"sequentialminus\":[[0.0,\"#0d0887\"],[0.1111111111111111,\"#46039f\"],[0.2222222222222222,\"#7201a8\"],[0.3333333333333333,\"#9c179e\"],[0.4444444444444444,\"#bd3786\"],[0.5555555555555556,\"#d8576b\"],[0.6666666666666666,\"#ed7953\"],[0.7777777777777778,\"#fb9f3a\"],[0.8888888888888888,\"#fdca26\"],[1.0,\"#f0f921\"]],\"diverging\":[[0,\"#8e0152\"],[0.1,\"#c51b7d\"],[0.2,\"#de77ae\"],[0.3,\"#f1b6da\"],[0.4,\"#fde0ef\"],[0.5,\"#f7f7f7\"],[0.6,\"#e6f5d0\"],[0.7,\"#b8e186\"],[0.8,\"#7fbc41\"],[0.9,\"#4d9221\"],[1,\"#276419\"]]},\"xaxis\":{\"gridcolor\":\"white\",\"linecolor\":\"white\",\"ticks\":\"\",\"title\":{\"standoff\":15},\"zerolinecolor\":\"white\",\"automargin\":true,\"zerolinewidth\":2},\"yaxis\":{\"gridcolor\":\"white\",\"linecolor\":\"white\",\"ticks\":\"\",\"title\":{\"standoff\":15},\"zerolinecolor\":\"white\",\"automargin\":true,\"zerolinewidth\":2},\"scene\":{\"xaxis\":{\"backgroundcolor\":\"#E5ECF6\",\"gridcolor\":\"white\",\"linecolor\":\"white\",\"showbackground\":true,\"ticks\":\"\",\"zerolinecolor\":\"white\",\"gridwidth\":2},\"yaxis\":{\"backgroundcolor\":\"#E5ECF6\",\"gridcolor\":\"white\",\"linecolor\":\"white\",\"showbackground\":true,\"ticks\":\"\",\"zerolinecolor\":\"white\",\"gridwidth\":2},\"zaxis\":{\"backgroundcolor\":\"#E5ECF6\",\"gridcolor\":\"white\",\"linecolor\":\"white\",\"showbackground\":true,\"ticks\":\"\",\"zerolinecolor\":\"white\",\"gridwidth\":2}},\"shapedefaults\":{\"line\":{\"color\":\"#2a3f5f\"}},\"annotationdefaults\":{\"arrowcolor\":\"#2a3f5f\",\"arrowhead\":0,\"arrowwidth\":1},\"geo\":{\"bgcolor\":\"white\",\"landcolor\":\"#E5ECF6\",\"subunitcolor\":\"white\",\"showland\":true,\"showlakes\":true,\"lakecolor\":\"white\"},\"title\":{\"x\":0.05},\"mapbox\":{\"style\":\"light\"}}},\"scene\":{\"domain\":{\"x\":[0.0,1.0],\"y\":[0.0,1.0]},\"xaxis\":{\"title\":{\"text\":\"x\"}},\"yaxis\":{\"title\":{\"text\":\"y\"}},\"zaxis\":{\"title\":{\"text\":\"z\"}}},\"legend\":{\"tracegroupgap\":0},\"margin\":{\"t\":60}},                        {\"responsive\": true}                    ).then(function(){\n",
              "                            \n",
              "var gd = document.getElementById('a20eec0b-c556-4d08-b997-343934122929');\n",
              "var x = new MutationObserver(function (mutations, observer) {{\n",
              "        var display = window.getComputedStyle(gd).display;\n",
              "        if (!display || display === 'none') {{\n",
              "            console.log([gd, 'removed!']);\n",
              "            Plotly.purge(gd);\n",
              "            observer.disconnect();\n",
              "        }}\n",
              "}});\n",
              "\n",
              "// Listen for the removal of the full notebook cells\n",
              "var notebookContainer = gd.closest('#notebook-container');\n",
              "if (notebookContainer) {{\n",
              "    x.observe(notebookContainer, {childList: true});\n",
              "}}\n",
              "\n",
              "// Listen for the clearing of the current output cell\n",
              "var outputEl = gd.closest('.output');\n",
              "if (outputEl) {{\n",
              "    x.observe(outputEl, {childList: true});\n",
              "}}\n",
              "\n",
              "                        })                };                            </script>        </div>\n",
              "</body>\n",
              "</html>"
            ]
          },
          "metadata": {}
        }
      ]
    }
  ]
}